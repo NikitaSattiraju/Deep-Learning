{
 "cells": [
  {
   "cell_type": "markdown",
   "id": "4b12091d",
   "metadata": {},
   "source": [
    "## Create a MCP based neuron with the help of (Functions  or Class) \n",
    "\n",
    "## Here your activation function should be AND,OR and your inputs can be in n-dimensional\n",
    "\n",
    "## Your function should work for both 'AND' as well as for 'OR'"
   ]
  },
  {
   "cell_type": "code",
   "execution_count": null,
   "id": "6f27c577",
   "metadata": {},
   "outputs": [],
   "source": []
  },
  {
   "cell_type": "code",
   "execution_count": null,
   "id": "53a6a37f",
   "metadata": {},
   "outputs": [],
   "source": []
  },
  {
   "cell_type": "markdown",
   "id": "3628024f",
   "metadata": {},
   "source": [
    "## AND -  If any one of the inputs is 0 (zero), AND gate gives the output as 0 (zero)\n",
    "##  If all the inputs are 1, then the output is 1"
   ]
  },
  {
   "cell_type": "code",
   "execution_count": null,
   "id": "ff1e1179",
   "metadata": {},
   "outputs": [],
   "source": []
  },
  {
   "cell_type": "markdown",
   "id": "b5679e32",
   "metadata": {},
   "source": [
    "## OR- If all the inputs are 0 (zero), then the output is zero\n",
    "## If one or more inputs is 1, then the output is one"
   ]
  },
  {
   "cell_type": "code",
   "execution_count": null,
   "id": "38d71a11",
   "metadata": {},
   "outputs": [],
   "source": []
  },
  {
   "cell_type": "markdown",
   "id": "f26c031a",
   "metadata": {},
   "source": [
    "### Creating MCP based Neuron with help of Class"
   ]
  },
  {
   "cell_type": "code",
   "execution_count": 32,
   "id": "d973ed8a",
   "metadata": {},
   "outputs": [],
   "source": [
    "class MCP_neuron:\n",
    "    def __init__(self, operation):\n",
    "        if operation not in ('AND', 'OR'):\n",
    "            raise ValueError(\"Invalid operation\")\n",
    "        self.operation = operation\n",
    "\n",
    "    def activate(self, inputs):\n",
    "        if self.operation == 'AND': # If the operation function is AND\n",
    "            return int(all(inputs)) # Using 'all' to represent 'And' operation\n",
    "        elif self.operation == 'OR': # If the activation function is OR\n",
    "            return int(any(inputs)) # Using 'any' to reppresent 'OR' operation\n",
    "        else:\n",
    "            raise ValueError(\"Invalid operation\")"
   ]
  },
  {
   "cell_type": "code",
   "execution_count": 33,
   "id": "21068517",
   "metadata": {},
   "outputs": [
    {
     "name": "stdout",
     "output_type": "stream",
     "text": [
      "Enter values in binary format and separate them with commas: 1,1,1,0,1,0,1,0\n",
      "Inputs: [1, 1, 1, 0, 1, 0, 1, 0]\n",
      "AND Result: 0\n",
      "OR Result: 1\n"
     ]
    }
   ],
   "source": [
    "input_str = input(\"Enter values in binary format and separate them with commas: \")\n",
    "inputs = [int(x) for x in input_str.split(',')]\n",
    "and_neuron = MCPNeuron('AND') # AND operation\n",
    "or_neuron = MCPNeuron('OR') # OR operation\n",
    "\n",
    "and_result = and_neuron.activate(inputs)\n",
    "or_result = or_neuron.activate(inputs)\n",
    "\n",
    "print(\"Inputs:\", inputs)\n",
    "print(\"AND Result:\", and_result)\n",
    "print(\"OR Result:\", or_result)"
   ]
  },
  {
   "cell_type": "code",
   "execution_count": null,
   "id": "a205bb15",
   "metadata": {},
   "outputs": [],
   "source": []
  },
  {
   "cell_type": "code",
   "execution_count": null,
   "id": "bd790743",
   "metadata": {},
   "outputs": [],
   "source": []
  }
 ],
 "metadata": {
  "kernelspec": {
   "display_name": "Python 3 (ipykernel)",
   "language": "python",
   "name": "python3"
  },
  "language_info": {
   "codemirror_mode": {
    "name": "ipython",
    "version": 3
   },
   "file_extension": ".py",
   "mimetype": "text/x-python",
   "name": "python",
   "nbconvert_exporter": "python",
   "pygments_lexer": "ipython3",
   "version": "3.9.13"
  }
 },
 "nbformat": 4,
 "nbformat_minor": 5
}
